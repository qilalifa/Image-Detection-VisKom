{
 "cells": [
  {
   "cell_type": "code",
   "execution_count": 1,
   "metadata": {},
   "outputs": [],
   "source": [
    "import os\n",
    "\n",
    "# Membuat folder data yang berisi images dan label\n",
    "if not os.path.exists('data'):\n",
    "    for folder in ['images', 'labels']:\n",
    "        for split in ['train', 'val', 'test']:\n",
    "            os.makedirs(f'data/{folder}/{split}')"
   ]
  },
  {
   "cell_type": "code",
   "execution_count": 5,
   "metadata": {},
   "outputs": [],
   "source": [
    "import glob\n",
    "\n",
    "# Mengambil set nama file dari folder images\n",
    "def get_filenames(folder):\n",
    "    filenames = set()\n",
    "    \n",
    "    # Melakukan iterasi pada semua file yang memiliki ekstensi 'jpg'\n",
    "    for path in glob.glob(os.path.join(folder, '*.jpg')):\n",
    "        # Mengekstrak file dan menambahkan nama file ke dalam set\n",
    "        filename = os.path.split(path)[-1]        \n",
    "        filenames.add(filename)\n",
    "\n",
    "    return filenames\n",
    "\n",
    "# data filename set\n",
    "data_images = get_filenames('images')"
   ]
  },
  {
   "cell_type": "code",
   "execution_count": 6,
   "metadata": {},
   "outputs": [],
   "source": [
    "import numpy as np\n",
    "\n",
    "# Mwngubah menjadi array NumPy\n",
    "data_images = np.array(list(data_images))\n",
    "\n",
    "# Reproduktibilitas untuk pengacakan data\n",
    "np.random.seed(42)\n",
    "np.random.shuffle(data_images)"
   ]
  },
  {
   "cell_type": "code",
   "execution_count": 7,
   "metadata": {},
   "outputs": [],
   "source": [
    "import shutil\n",
    "\n",
    "def split_dataset(image_names, train_size, val_size):\n",
    "    for i, image_name in enumerate(image_names):\n",
    "        # Membuat file label dan mengganti ekstensi jpg menjadi txt\n",
    "        label_name = image_name.replace('.jpg', '.txt')\n",
    "        \n",
    "        # Membagi data menjadi data train, data valid, dan data test\n",
    "        if i < train_size:\n",
    "            split = 'train'\n",
    "        elif i < train_size + val_size:\n",
    "            split = 'val'\n",
    "        else:\n",
    "            split = 'test'\n",
    "        \n",
    "        # Source path untuk asal gambar dan label\n",
    "        source_image_path = f'images/{image_name}'\n",
    "        source_label_path = f'labels/{label_name}'\n",
    "\n",
    "        # menentukan path tujuan untuk menyimpan gambar dan label\n",
    "        target_image_folder = f'data/images/{split}'\n",
    "        target_label_folder = f'data/labels/{split}'\n",
    "\n",
    "        # Menyalin gambar dari sumber ke path tujuan\n",
    "        shutil.copy(source_image_path, target_image_folder)\n",
    "        shutil.copy(source_label_path, target_label_folder)\n",
    "\n",
    "# Membagi data menjadi 75 data train, 10 data validasi, dan 15 data testing \n",
    "split_dataset(data_images, train_size=75, val_size=10)"
   ]
  },
  {
   "cell_type": "code",
   "execution_count": 4,
   "metadata": {},
   "outputs": [
    {
     "name": "stdout",
     "output_type": "stream",
     "text": [
      "Collecting gitpython>=3.1.30\n",
      "  Using cached GitPython-3.1.40-py3-none-any.whl (190 kB)\n",
      "Requirement already satisfied: matplotlib>=3.3 in c:\\users\\aqilah\\miniconda3\\envs\\pds\\lib\\site-packages (from -r yolov5/requirements.txt (line 6)) (3.7.1)\n",
      "Collecting matplotlib>=3.3\n",
      "  Using cached matplotlib-3.8.1-cp311-cp311-win_amd64.whl (7.6 MB)\n",
      "Requirement already satisfied: numpy>=1.22.2 in c:\\users\\aqilah\\miniconda3\\envs\\pds\\lib\\site-packages (from -r yolov5/requirements.txt (line 7)) (1.24.2)\n",
      "Collecting numpy>=1.22.2\n",
      "  Using cached numpy-1.26.1-cp311-cp311-win_amd64.whl (15.8 MB)\n",
      "Collecting opencv-python>=4.1.1\n",
      "  Using cached opencv_python-4.8.1.78-cp37-abi3-win_amd64.whl (38.1 MB)\n",
      "Collecting Pillow>=10.0.1\n",
      "  Using cached Pillow-10.1.0-cp311-cp311-win_amd64.whl (2.6 MB)\n",
      "Requirement already satisfied: psutil in c:\\users\\aqilah\\miniconda3\\envs\\pds\\lib\\site-packages (from -r yolov5/requirements.txt (line 10)) (5.9.0)\n",
      "Collecting psutil\n",
      "  Using cached psutil-5.9.6-cp37-abi3-win_amd64.whl (252 kB)\n",
      "Requirement already satisfied: PyYAML>=5.3.1 in c:\\users\\aqilah\\miniconda3\\envs\\pds\\lib\\site-packages (from -r yolov5/requirements.txt (line 11)) (6.0.1)\n",
      "Requirement already satisfied: requests>=2.23.0 in c:\\users\\aqilah\\miniconda3\\envs\\pds\\lib\\site-packages (from -r yolov5/requirements.txt (line 12)) (2.31.0)\n",
      "Requirement already satisfied: scipy>=1.4.1 in c:\\users\\aqilah\\miniconda3\\envs\\pds\\lib\\site-packages (from -r yolov5/requirements.txt (line 13)) (1.10.1)\n",
      "Collecting scipy>=1.4.1\n",
      "  Using cached scipy-1.11.3-cp311-cp311-win_amd64.whl (44.1 MB)\n",
      "Collecting thop>=0.1.1\n",
      "  Using cached thop-0.1.1.post2209072238-py3-none-any.whl (15 kB)\n",
      "Requirement already satisfied: torch>=1.8.0 in c:\\users\\aqilah\\miniconda3\\envs\\pds\\lib\\site-packages (from -r yolov5/requirements.txt (line 15)) (2.1.0)\n",
      "Requirement already satisfied: torchvision>=0.9.0 in c:\\users\\aqilah\\miniconda3\\envs\\pds\\lib\\site-packages (from -r yolov5/requirements.txt (line 16)) (0.16.0)\n",
      "Collecting tqdm>=4.64.0\n",
      "  Using cached tqdm-4.66.1-py3-none-any.whl (78 kB)\n",
      "Collecting ultralytics>=8.0.147\n",
      "  Using cached ultralytics-8.0.208-py3-none-any.whl (645 kB)\n",
      "Requirement already satisfied: pandas>=1.1.4 in c:\\users\\aqilah\\miniconda3\\envs\\pds\\lib\\site-packages (from -r yolov5/requirements.txt (line 27)) (2.0.0)\n",
      "Collecting pandas>=1.1.4\n",
      "  Using cached pandas-2.1.2-cp311-cp311-win_amd64.whl (10.6 MB)\n",
      "Requirement already satisfied: seaborn>=0.11.0 in c:\\users\\aqilah\\miniconda3\\envs\\pds\\lib\\site-packages (from -r yolov5/requirements.txt (line 28)) (0.12.2)\n",
      "Collecting seaborn>=0.11.0\n",
      "  Using cached seaborn-0.13.0-py3-none-any.whl (294 kB)\n",
      "Requirement already satisfied: setuptools>=65.5.1 in c:\\users\\aqilah\\miniconda3\\envs\\pds\\lib\\site-packages (from -r yolov5/requirements.txt (line 42)) (65.6.3)\n",
      "Collecting setuptools>=65.5.1\n",
      "  Using cached setuptools-68.2.2-py3-none-any.whl (807 kB)\n",
      "Collecting gitdb<5,>=4.0.1\n",
      "  Using cached gitdb-4.0.11-py3-none-any.whl (62 kB)\n",
      "Requirement already satisfied: contourpy>=1.0.1 in c:\\users\\aqilah\\miniconda3\\envs\\pds\\lib\\site-packages (from matplotlib>=3.3->-r yolov5/requirements.txt (line 6)) (1.0.7)\n",
      "Requirement already satisfied: cycler>=0.10 in c:\\users\\aqilah\\miniconda3\\envs\\pds\\lib\\site-packages (from matplotlib>=3.3->-r yolov5/requirements.txt (line 6)) (0.11.0)\n",
      "Requirement already satisfied: fonttools>=4.22.0 in c:\\users\\aqilah\\miniconda3\\envs\\pds\\lib\\site-packages (from matplotlib>=3.3->-r yolov5/requirements.txt (line 6)) (4.39.3)\n",
      "Requirement already satisfied: kiwisolver>=1.3.1 in c:\\users\\aqilah\\miniconda3\\envs\\pds\\lib\\site-packages (from matplotlib>=3.3->-r yolov5/requirements.txt (line 6)) (1.4.4)\n",
      "Requirement already satisfied: packaging>=20.0 in c:\\users\\aqilah\\miniconda3\\envs\\pds\\lib\\site-packages (from matplotlib>=3.3->-r yolov5/requirements.txt (line 6)) (23.0)\n",
      "Requirement already satisfied: pyparsing>=2.3.1 in c:\\users\\aqilah\\miniconda3\\envs\\pds\\lib\\site-packages (from matplotlib>=3.3->-r yolov5/requirements.txt (line 6)) (3.0.9)\n",
      "Requirement already satisfied: python-dateutil>=2.7 in c:\\users\\aqilah\\miniconda3\\envs\\pds\\lib\\site-packages (from matplotlib>=3.3->-r yolov5/requirements.txt (line 6)) (2.8.2)\n",
      "Requirement already satisfied: charset-normalizer<4,>=2 in c:\\users\\aqilah\\miniconda3\\envs\\pds\\lib\\site-packages (from requests>=2.23.0->-r yolov5/requirements.txt (line 12)) (3.2.0)\n",
      "Requirement already satisfied: idna<4,>=2.5 in c:\\users\\aqilah\\miniconda3\\envs\\pds\\lib\\site-packages (from requests>=2.23.0->-r yolov5/requirements.txt (line 12)) (3.4)\n",
      "Requirement already satisfied: urllib3<3,>=1.21.1 in c:\\users\\aqilah\\miniconda3\\envs\\pds\\lib\\site-packages (from requests>=2.23.0->-r yolov5/requirements.txt (line 12)) (2.0.4)\n",
      "Requirement already satisfied: certifi>=2017.4.17 in c:\\users\\aqilah\\miniconda3\\envs\\pds\\lib\\site-packages (from requests>=2.23.0->-r yolov5/requirements.txt (line 12)) (2020.6.20)\n",
      "Requirement already satisfied: filelock in c:\\users\\aqilah\\miniconda3\\envs\\pds\\lib\\site-packages (from torch>=1.8.0->-r yolov5/requirements.txt (line 15)) (3.13.1)\n",
      "Requirement already satisfied: typing-extensions in c:\\users\\aqilah\\miniconda3\\envs\\pds\\lib\\site-packages (from torch>=1.8.0->-r yolov5/requirements.txt (line 15)) (4.5.0)\n",
      "Requirement already satisfied: sympy in c:\\users\\aqilah\\miniconda3\\envs\\pds\\lib\\site-packages (from torch>=1.8.0->-r yolov5/requirements.txt (line 15)) (1.11.1)\n",
      "Requirement already satisfied: networkx in c:\\users\\aqilah\\miniconda3\\envs\\pds\\lib\\site-packages (from torch>=1.8.0->-r yolov5/requirements.txt (line 15)) (2.7.1)\n",
      "Requirement already satisfied: jinja2 in c:\\users\\aqilah\\miniconda3\\envs\\pds\\lib\\site-packages (from torch>=1.8.0->-r yolov5/requirements.txt (line 15)) (3.1.2)\n",
      "Requirement already satisfied: fsspec in c:\\users\\aqilah\\miniconda3\\envs\\pds\\lib\\site-packages (from torch>=1.8.0->-r yolov5/requirements.txt (line 15)) (2023.6.0)\n",
      "Requirement already satisfied: colorama in c:\\users\\aqilah\\miniconda3\\envs\\pds\\lib\\site-packages (from tqdm>=4.64.0->-r yolov5/requirements.txt (line 17)) (0.4.6)\n",
      "Collecting py-cpuinfo\n",
      "  Using cached py_cpuinfo-9.0.0-py3-none-any.whl (22 kB)\n",
      "Requirement already satisfied: pytz>=2020.1 in c:\\users\\aqilah\\miniconda3\\envs\\pds\\lib\\site-packages (from pandas>=1.1.4->-r yolov5/requirements.txt (line 27)) (2023.3)\n",
      "Requirement already satisfied: tzdata>=2022.1 in c:\\users\\aqilah\\miniconda3\\envs\\pds\\lib\\site-packages (from pandas>=1.1.4->-r yolov5/requirements.txt (line 27)) (2023.3)\n",
      "Collecting smmap<6,>=3.0.1\n",
      "  Using cached smmap-5.0.1-py3-none-any.whl (24 kB)\n",
      "Requirement already satisfied: six>=1.5 in c:\\users\\aqilah\\miniconda3\\envs\\pds\\lib\\site-packages (from python-dateutil>=2.7->matplotlib>=3.3->-r yolov5/requirements.txt (line 6)) (1.16.0)\n",
      "Requirement already satisfied: MarkupSafe>=2.0 in c:\\users\\aqilah\\miniconda3\\envs\\pds\\lib\\site-packages (from jinja2->torch>=1.8.0->-r yolov5/requirements.txt (line 15)) (2.1.3)\n",
      "Requirement already satisfied: mpmath>=0.19 in c:\\users\\aqilah\\miniconda3\\envs\\pds\\lib\\site-packages (from sympy->torch>=1.8.0->-r yolov5/requirements.txt (line 15)) (1.3.0)\n",
      "Installing collected packages: py-cpuinfo, tqdm, smmap, setuptools, psutil, Pillow, numpy, scipy, pandas, opencv-python, gitdb, thop, matplotlib, gitpython, seaborn, ultralytics\n",
      "  Attempting uninstall: setuptools\n",
      "    Found existing installation: setuptools 65.6.3\n",
      "    Uninstalling setuptools-65.6.3:\n",
      "      Successfully uninstalled setuptools-65.6.3\n",
      "  Attempting uninstall: psutil\n",
      "    Found existing installation: psutil 5.9.0\n",
      "    Uninstalling psutil-5.9.0:\n",
      "      Successfully uninstalled psutil-5.9.0\n",
      "  Attempting uninstall: Pillow\n",
      "    Found existing installation: Pillow 9.5.0\n",
      "    Uninstalling Pillow-9.5.0:\n",
      "      Successfully uninstalled Pillow-9.5.0\n",
      "  Attempting uninstall: numpy\n",
      "    Found existing installation: numpy 1.24.2\n",
      "    Uninstalling numpy-1.24.2:\n",
      "      Successfully uninstalled numpy-1.24.2\n",
      "  Attempting uninstall: scipy\n",
      "    Found existing installation: scipy 1.10.1\n",
      "    Uninstalling scipy-1.10.1:\n",
      "      Successfully uninstalled scipy-1.10.1\n",
      "  Attempting uninstall: pandas\n",
      "    Found existing installation: pandas 2.0.0\n",
      "    Uninstalling pandas-2.0.0:\n",
      "      Successfully uninstalled pandas-2.0.0\n",
      "  Attempting uninstall: matplotlib\n",
      "    Found existing installation: matplotlib 3.7.1\n",
      "    Uninstalling matplotlib-3.7.1:\n",
      "      Successfully uninstalled matplotlib-3.7.1\n",
      "  Attempting uninstall: seaborn\n",
      "    Found existing installation: seaborn 0.12.2\n",
      "    Uninstalling seaborn-0.12.2:\n",
      "      Successfully uninstalled seaborn-0.12.2\n",
      "Successfully installed Pillow-10.1.0 gitdb-4.0.11 gitpython-3.1.40 matplotlib-3.8.1 numpy-1.26.1 opencv-python-4.8.1.78 pandas-2.1.2 psutil-5.9.6 py-cpuinfo-9.0.0 scipy-1.11.3 seaborn-0.13.0 setuptools-68.2.2 smmap-5.0.1 thop-0.1.1.post2209072238 tqdm-4.66.1 ultralytics-8.0.208\n"
     ]
    }
   ],
   "source": [
    "!pip install -U -r yolov5/requirements.txt"
   ]
  },
  {
   "cell_type": "code",
   "execution_count": 1,
   "metadata": {},
   "outputs": [
    {
     "name": "stdout",
     "output_type": "stream",
     "text": [
      "Collecting torch\n",
      "  Using cached torch-2.1.0-cp311-cp311-win_amd64.whl (192.3 MB)\n",
      "Collecting filelock\n",
      "  Using cached filelock-3.13.1-py3-none-any.whl (11 kB)\n",
      "Requirement already satisfied: typing-extensions in c:\\users\\aqilah\\miniconda3\\envs\\pds\\lib\\site-packages (from torch) (4.5.0)\n",
      "Requirement already satisfied: sympy in c:\\users\\aqilah\\miniconda3\\envs\\pds\\lib\\site-packages (from torch) (1.11.1)\n",
      "Requirement already satisfied: networkx in c:\\users\\aqilah\\miniconda3\\envs\\pds\\lib\\site-packages (from torch) (2.7.1)\n",
      "Collecting jinja2\n",
      "  Using cached Jinja2-3.1.2-py3-none-any.whl (133 kB)\n",
      "Requirement already satisfied: fsspec in c:\\users\\aqilah\\miniconda3\\envs\\pds\\lib\\site-packages (from torch) (2023.6.0)\n",
      "Requirement already satisfied: MarkupSafe>=2.0 in c:\\users\\aqilah\\miniconda3\\envs\\pds\\lib\\site-packages (from jinja2->torch) (2.1.3)\n",
      "Requirement already satisfied: mpmath>=0.19 in c:\\users\\aqilah\\miniconda3\\envs\\pds\\lib\\site-packages (from sympy->torch) (1.3.0)\n",
      "Installing collected packages: jinja2, filelock, torch\n",
      "Successfully installed filelock-3.13.1 jinja2-3.1.2 torch-2.1.0\n"
     ]
    }
   ],
   "source": [
    "!pip install torch"
   ]
  },
  {
   "cell_type": "code",
   "execution_count": 2,
   "metadata": {},
   "outputs": [
    {
     "name": "stdout",
     "output_type": "stream",
     "text": [
      "Collecting torchvision\n",
      "  Using cached torchvision-0.16.0-cp311-cp311-win_amd64.whl (1.3 MB)\n",
      "Requirement already satisfied: numpy in c:\\users\\aqilah\\miniconda3\\envs\\pds\\lib\\site-packages (from torchvision) (1.24.2)\n",
      "Requirement already satisfied: requests in c:\\users\\aqilah\\miniconda3\\envs\\pds\\lib\\site-packages (from torchvision) (2.31.0)\n",
      "Requirement already satisfied: torch==2.1.0 in c:\\users\\aqilah\\miniconda3\\envs\\pds\\lib\\site-packages (from torchvision) (2.1.0)\n",
      "Requirement already satisfied: pillow!=8.3.*,>=5.3.0 in c:\\users\\aqilah\\miniconda3\\envs\\pds\\lib\\site-packages (from torchvision) (9.5.0)\n",
      "Requirement already satisfied: filelock in c:\\users\\aqilah\\miniconda3\\envs\\pds\\lib\\site-packages (from torch==2.1.0->torchvision) (3.13.1)\n",
      "Requirement already satisfied: typing-extensions in c:\\users\\aqilah\\miniconda3\\envs\\pds\\lib\\site-packages (from torch==2.1.0->torchvision) (4.5.0)\n",
      "Requirement already satisfied: sympy in c:\\users\\aqilah\\miniconda3\\envs\\pds\\lib\\site-packages (from torch==2.1.0->torchvision) (1.11.1)\n",
      "Requirement already satisfied: networkx in c:\\users\\aqilah\\miniconda3\\envs\\pds\\lib\\site-packages (from torch==2.1.0->torchvision) (2.7.1)\n",
      "Requirement already satisfied: jinja2 in c:\\users\\aqilah\\miniconda3\\envs\\pds\\lib\\site-packages (from torch==2.1.0->torchvision) (3.1.2)\n",
      "Requirement already satisfied: fsspec in c:\\users\\aqilah\\miniconda3\\envs\\pds\\lib\\site-packages (from torch==2.1.0->torchvision) (2023.6.0)\n",
      "Requirement already satisfied: charset-normalizer<4,>=2 in c:\\users\\aqilah\\miniconda3\\envs\\pds\\lib\\site-packages (from requests->torchvision) (3.2.0)\n",
      "Requirement already satisfied: idna<4,>=2.5 in c:\\users\\aqilah\\miniconda3\\envs\\pds\\lib\\site-packages (from requests->torchvision) (3.4)\n",
      "Requirement already satisfied: urllib3<3,>=1.21.1 in c:\\users\\aqilah\\miniconda3\\envs\\pds\\lib\\site-packages (from requests->torchvision) (2.0.4)\n",
      "Requirement already satisfied: certifi>=2017.4.17 in c:\\users\\aqilah\\miniconda3\\envs\\pds\\lib\\site-packages (from requests->torchvision) (2020.6.20)\n",
      "Requirement already satisfied: MarkupSafe>=2.0 in c:\\users\\aqilah\\miniconda3\\envs\\pds\\lib\\site-packages (from jinja2->torch==2.1.0->torchvision) (2.1.3)\n",
      "Requirement already satisfied: mpmath>=0.19 in c:\\users\\aqilah\\miniconda3\\envs\\pds\\lib\\site-packages (from sympy->torch==2.1.0->torchvision) (1.3.0)\n",
      "Installing collected packages: torchvision\n",
      "Successfully installed torchvision-0.16.0\n"
     ]
    }
   ],
   "source": [
    "!pip install torchvision"
   ]
  },
  {
   "cell_type": "code",
   "execution_count": 5,
   "metadata": {},
   "outputs": [
    {
     "name": "stdout",
     "output_type": "stream",
     "text": [
      "^C\n"
     ]
    }
   ],
   "source": [
    "# Menjalankan training skrip untuk mendeteksi objek\n",
    "!python yolov5/train.py --data custom_data.yaml --weights yolov5s.pt --epochs 100 --batch 4 --freeze 10"
   ]
  },
  {
   "cell_type": "code",
   "execution_count": 6,
   "metadata": {},
   "outputs": [
    {
     "name": "stderr",
     "output_type": "stream",
     "text": [
      "\u001b[34m\u001b[1mdetect: \u001b[0mweights=['yolov5/runs/train/exp3/weights/last.pt'], source=images/ad46b324-06209d21-IMG_2274_jpeg_jpg.rf.2f319e949748145fb22dcb52bb325a0c.jpg, data=yolov5\\data\\coco128.yaml, imgsz=[640, 640], conf_thres=0.25, iou_thres=0.45, max_det=1000, device=, view_img=False, save_txt=False, save_csv=False, save_conf=False, save_crop=False, nosave=False, classes=None, agnostic_nms=False, augment=False, visualize=False, update=False, project=yolov5\\runs\\detect, name=exp, exist_ok=False, line_thickness=3, hide_labels=False, hide_conf=False, half=False, dnn=False, vid_stride=1\n",
      "fatal: cannot change to 'C:\\Users\\Aqilah\\Documents\\VISI': No such file or directory\n",
      "YOLOv5  2023-11-9 Python-3.11.2 torch-2.1.0+cpu CPU\n",
      "\n",
      "Fusing layers... \n",
      "Model summary: 157 layers, 7026307 parameters, 0 gradients, 15.8 GFLOPs\n",
      "image 1/1 C:\\Users\\Aqilah\\Documents\\VISI KOMPUTER\\Labelstudio\\images\\ad46b324-06209d21-IMG_2274_jpeg_jpg.rf.2f319e949748145fb22dcb52bb325a0c.jpg: 640x480 6 Fishs, 226.2ms\n",
      "Speed: 0.0ms pre-process, 226.2ms inference, 3.2ms NMS per image at shape (1, 3, 640, 640)\n",
      "Results saved to \u001b[1myolov5\\runs\\detect\\exp9\u001b[0m\n"
     ]
    }
   ],
   "source": [
    "!python yolov5/detect.py --weights yolov5/runs/train/exp3/weights/last.pt --img 640 --conf 0.25 --source images/ad46b324-06209d21-IMG_2274_jpeg_jpg.rf.2f319e949748145fb22dcb52bb325a0c.jpg"
   ]
  }
 ],
 "metadata": {
  "kernelspec": {
   "display_name": "pds",
   "language": "python",
   "name": "python3"
  },
  "language_info": {
   "codemirror_mode": {
    "name": "ipython",
    "version": 3
   },
   "file_extension": ".py",
   "mimetype": "text/x-python",
   "name": "python",
   "nbconvert_exporter": "python",
   "pygments_lexer": "ipython3",
   "version": "3.11.2"
  }
 },
 "nbformat": 4,
 "nbformat_minor": 2
}
